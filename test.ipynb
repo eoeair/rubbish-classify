{
 "cells": [
  {
   "cell_type": "code",
   "execution_count": null,
   "id": "3cd02d1a",
   "metadata": {},
   "outputs": [],
   "source": [
    "import os\n",
    "import numpy as np\n",
    "import cv2\n",
    "import imageio.v3 as imageio\n",
    "import matplotlib.pyplot as plt\n",
    "import jax\n",
    "from jax import numpy as jnp\n",
    "from flax import nnx\n",
    "import orbax.checkpoint as ocp\n",
    "from net import RubbishClassifier"
   ]
  },
  {
   "cell_type": "code",
   "execution_count": null,
   "id": "d83ae447",
   "metadata": {},
   "outputs": [],
   "source": [
    "def letterbox(im, new_shape=(640, 640), color=(114, 114, 114), auto=True, scaleFill=False, scaleup=True, stride=32):\n",
    "    # Resize and pad image while meeting stride-multiple constraints\n",
    "    shape = im.shape[:2]  # current shape [height, width]\n",
    "    if isinstance(new_shape, int):\n",
    "        new_shape = (new_shape, new_shape)\n",
    "    # Scale ratio (new / old)\n",
    "    r = min(new_shape[0] / shape[0], new_shape[1] / shape[1])\n",
    "    if not scaleup:  # only scale down, do not scale up (for better val mAP)\n",
    "        r = min(r, 1.0)\n",
    "    # Compute padding\n",
    "    ratio = r, r  # width, height ratios\n",
    "    new_unpad = int(round(shape[1] * r)), int(round(shape[0] * r))\n",
    "    dw, dh = new_shape[1] - new_unpad[0], new_shape[0] - new_unpad[1]  # wh padding\n",
    "    if auto:  # minimum rectangle\n",
    "        dw, dh = np.mod(dw, stride), np.mod(dh, stride)  # wh padding\n",
    "    elif scaleFill:  # stretch\n",
    "        dw, dh = 0.0, 0.0\n",
    "        new_unpad = (new_shape[1], new_shape[0])\n",
    "        ratio = new_shape[1] / shape[1], new_shape[0] / shape[0]  # width, height ratios\n",
    "    # Ensure dw and dh are positive and can fill to new_shape\n",
    "    dw = new_shape[1] - new_unpad[0] if dw < 0 else dw\n",
    "    dh = new_shape[0] - new_unpad[1] if dh < 0 else dh\n",
    "    dw /= 2  # divide padding into 2 sides\n",
    "    dh /= 2\n",
    "    if shape[::-1] != new_unpad:  # resize\n",
    "        im = cv2.resize(im, new_unpad, interpolation=cv2.INTER_LINEAR)\n",
    "    top, bottom = int(round(dh - 0.1)), int(round(dh + 0.1))\n",
    "    left, right = int(round(dw - 0.1)), int(round(dw + 0.1))\n",
    "    im = cv2.copyMakeBorder(im, top, bottom, left, right, cv2.BORDER_CONSTANT, value=color)  # add border\n",
    "    return im, ratio, (dw, dh)"
   ]
  },
  {
   "cell_type": "code",
   "execution_count": null,
   "id": "cf968188",
   "metadata": {},
   "outputs": [],
   "source": [
    "abstract_model = nnx.eval_shape(lambda: RubbishClassifier(num_classes=40, rngs=nnx.Rngs(0)))\n",
    "graphdef, abstract_state = nnx.split(abstract_model)\n",
    "\n",
    "with ocp.CheckpointManager(\n",
    "    os.path.join(os.getcwd(), \"checkpoints/\"),\n",
    "    options=ocp.CheckpointManagerOptions(max_to_keep=1),\n",
    ") as mngr:\n",
    "    stete = mngr.restore(mngr.latest_step(), args=ocp.args.StandardRestore(abstract_state))\n",
    "    model = nnx.merge(graphdef, stete)\n",
    "\n"
   ]
  },
  {
   "cell_type": "code",
   "execution_count": null,
   "id": "0fdc1daf",
   "metadata": {},
   "outputs": [],
   "source": [
    "image_path = \"./data/train/10/img_4256.jpg\"\n",
    "img = imageio.imread(image_path)\n",
    "# Display the image using matplotlib\n",
    "plt.imshow(img)\n",
    "plt.show()\n",
    "\n",
    "# print the shape of the image\n",
    "print(\"Image shape:\", img.shape)"
   ]
  },
  {
   "cell_type": "code",
   "execution_count": null,
   "id": "ddc516c9",
   "metadata": {},
   "outputs": [],
   "source": [
    "img, _, _ = letterbox(img, new_shape=(224, 224), auto=False)\n",
    "img = np.expand_dims(img, axis=0)  # Add batch dimension\n",
    "\n",
    "logits = model(img)\n",
    "# 应用softmax获得概率\n",
    "probabilities = jax.nn.softmax(logits, axis=-1)\n",
    "\n",
    "# 获得概率最大的类别\n",
    "predicted_class = jnp.argmax(probabilities, axis=-1)\n",
    "max_probability = jnp.max(probabilities, axis=-1)\n",
    "\n",
    "# 显示前5个最可能的类别\n",
    "top5_indices = jnp.argsort(probabilities[0])[-5:][::-1]  # 降序排列\n",
    "print(\"\\nTop 5 predictions:\")\n",
    "for i, idx in enumerate(top5_indices):\n",
    "    print(f\"{i+1}. Class {idx}: {probabilities[0][idx]:.4f} ({probabilities[0][idx]*100:.2f}%)\")"
   ]
  }
 ],
 "metadata": {
  "kernelspec": {
   "display_name": "jax",
   "language": "python",
   "name": "python3"
  },
  "language_info": {
   "codemirror_mode": {
    "name": "ipython",
    "version": 3
   },
   "file_extension": ".py",
   "mimetype": "text/x-python",
   "name": "python",
   "nbconvert_exporter": "python",
   "pygments_lexer": "ipython3",
   "version": "3.12.11"
  }
 },
 "nbformat": 4,
 "nbformat_minor": 5
}
