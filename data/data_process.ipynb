{
 "cells": [
  {
   "cell_type": "code",
   "execution_count": null,
   "id": "967570fa",
   "metadata": {},
   "outputs": [],
   "source": [
    "import os\n",
    "import glob\n",
    "import cv2\n",
    "\n",
    "from tqdm import tqdm\n",
    "import imageio.v3 as imageio\n",
    "\n",
    "\n",
    "import numpy as np\n",
    "from numpy.lib.format import open_memmap"
   ]
  },
  {
   "cell_type": "markdown",
   "id": "e19eb37c",
   "metadata": {},
   "source": [
    "加载一张数据集图片查看"
   ]
  },
  {
   "cell_type": "code",
   "execution_count": null,
   "id": "e8f21b95",
   "metadata": {},
   "outputs": [],
   "source": [
    "import matplotlib.pyplot as plt\n",
    "# Load the image\n",
    "img = imageio.imread(\"./train/0/img_2.jpg\")\n",
    "\n",
    "# Display the image using matplotlib\n",
    "plt.imshow(img)\n",
    "plt.show()\n",
    "\n",
    "# print the shape of the image\n",
    "print(\"Image shape:\", img.shape)"
   ]
  },
  {
   "cell_type": "markdown",
   "id": "4f6165b1",
   "metadata": {},
   "source": [
    "图像处理函数，将图像处理成统一大小"
   ]
  },
  {
   "cell_type": "code",
   "execution_count": null,
   "id": "3f893f79",
   "metadata": {},
   "outputs": [],
   "source": [
    "def letterbox(im, new_shape=(640, 640), color=(114, 114, 114), auto=True, scaleFill=False, scaleup=True, stride=32):\n",
    "    # Resize and pad image while meeting stride-multiple constraints\n",
    "    shape = im.shape[:2]  # current shape [height, width]\n",
    "    if isinstance(new_shape, int):\n",
    "        new_shape = (new_shape, new_shape)\n",
    "    # Scale ratio (new / old)\n",
    "    r = min(new_shape[0] / shape[0], new_shape[1] / shape[1])\n",
    "    if not scaleup:  # only scale down, do not scale up (for better val mAP)\n",
    "        r = min(r, 1.0)\n",
    "    # Compute padding\n",
    "    ratio = r, r  # width, height ratios\n",
    "    new_unpad = int(round(shape[1] * r)), int(round(shape[0] * r))\n",
    "    dw, dh = new_shape[1] - new_unpad[0], new_shape[0] - new_unpad[1]  # wh padding\n",
    "    if auto:  # minimum rectangle\n",
    "        dw, dh = np.mod(dw, stride), np.mod(dh, stride)  # wh padding\n",
    "    elif scaleFill:  # stretch\n",
    "        dw, dh = 0.0, 0.0\n",
    "        new_unpad = (new_shape[1], new_shape[0])\n",
    "        ratio = new_shape[1] / shape[1], new_shape[0] / shape[0]  # width, height ratios\n",
    "    # Ensure dw and dh are positive and can fill to new_shape\n",
    "    dw = new_shape[1] - new_unpad[0] if dw < 0 else dw\n",
    "    dh = new_shape[0] - new_unpad[1] if dh < 0 else dh\n",
    "    dw /= 2  # divide padding into 2 sides\n",
    "    dh /= 2\n",
    "    if shape[::-1] != new_unpad:  # resize\n",
    "        im = cv2.resize(im, new_unpad, interpolation=cv2.INTER_LINEAR)\n",
    "    top, bottom = int(round(dh - 0.1)), int(round(dh + 0.1))\n",
    "    left, right = int(round(dw - 0.1)), int(round(dw + 0.1))\n",
    "    im = cv2.copyMakeBorder(im, top, bottom, left, right, cv2.BORDER_CONSTANT, value=color)  # add border\n",
    "    return im, ratio, (dw, dh)"
   ]
  },
  {
   "cell_type": "markdown",
   "id": "91912724",
   "metadata": {},
   "source": [
    "图像处理到npy文件，方便训练加载"
   ]
  },
  {
   "cell_type": "code",
   "execution_count": null,
   "id": "4c95ab40",
   "metadata": {},
   "outputs": [],
   "source": [
    "def load_images_to_npy(folder_path, target_size=(224, 224)):\n",
    "    \"\"\"\n",
    "    读取文件夹下的图片并储存到npy文件中\n",
    "\n",
    "    Args:\n",
    "        folder_path: 图片文件夹路径\n",
    "        output_path: 输出npy文件路径\n",
    "        target_size: 目标图片尺寸 (width, height)\n",
    "\n",
    "    Returns:\n",
    "        images: 图片数组\n",
    "        filenames: 文件名列表\n",
    "    \"\"\"\n",
    "    # 支持的图片格式\n",
    "    image_extensions = [\"*.jpg\", \"*.jpeg\", \"*.png\", \"*.bmp\", \"*.tiff\", \"*.webp\"]\n",
    "\n",
    "    # 获取所有图片文件路径\n",
    "    image_paths = []\n",
    "    for ext in image_extensions:\n",
    "        image_paths.extend(glob.glob(os.path.join(folder_path, ext)))\n",
    "        image_paths.extend(glob.glob(os.path.join(folder_path, ext.upper())))\n",
    "\n",
    "    images = []\n",
    "    labels = []\n",
    "\n",
    "    for img_path in tqdm(image_paths):\n",
    "        try:\n",
    "            # 读取图片\n",
    "            img = imageio.imread(img_path)\n",
    "            if img is None:\n",
    "                print(f\"无法读取图片: {img_path}\")\n",
    "                continue\n",
    "\n",
    "            # 图片预处理\n",
    "            img_processed, _, _ = letterbox(img, new_shape=target_size, auto=False)\n",
    "            # 归一化\n",
    "            img_processed = (img_processed/255.0).astype(np.float32)\n",
    "\n",
    "            images.append(img_processed)\n",
    "            labels.append(int(folder_path.split('/')[-1]))  # 假设文件夹名是标签\n",
    "\n",
    "        except Exception as e:\n",
    "            print(f\"处理图片 {img_path} 时出错: {e}\")\n",
    "\n",
    "    # 转换为numpy数组\n",
    "    images = np.array(images, dtype=np.float32)\n",
    "    labels = np.array(labels, dtype=np.int32)\n",
    "\n",
    "    return images, labels"
   ]
  },
  {
   "cell_type": "code",
   "execution_count": null,
   "id": "79a0afb3",
   "metadata": {},
   "outputs": [],
   "source": [
    "def count_jpg_files(folder_path):\n",
    "    jpg_files = glob.glob(os.path.join(folder_path, \"**\", \"*.jpg\"), recursive=True)\n",
    "    return len(jpg_files)\n",
    "\n",
    "\n",
    "sets = [\"train\", \"val\", \"test\"]\n",
    "\n",
    "for set_name in sets:\n",
    "    num_images = count_jpg_files(f\"./{set_name}\")\n",
    "    print(f\"找到 {num_images} 张图片\")\n",
    "\n",
    "    if num_images == 0:\n",
    "        print(f\"{set_name} 数据集中没有图片\")\n",
    "        continue\n",
    "\n",
    "    # 创建内存映射文件\n",
    "    all_images = open_memmap(f\"./{set_name}_images.npy\", mode=\"w+\", dtype=np.float32, shape=(num_images, 224, 224, 3))\n",
    "    all_labels = open_memmap(f\"./{set_name}_labels.npy\", mode=\"w+\", dtype=np.int32, shape=(num_images,))\n",
    "\n",
    "    print(f\"处理 {set_name} 数据集...\")\n",
    "    current_idx = 0\n",
    "\n",
    "    for class_id in range(40):\n",
    "        folder_path = f\"./{set_name}/{class_id}\"\n",
    "\n",
    "        images, labels = load_images_to_npy(folder_path, target_size=(224, 224))\n",
    "\n",
    "        # 写入内存映射文件\n",
    "        end_idx = current_idx + len(images)\n",
    "        all_images[current_idx:end_idx] = images\n",
    "        all_labels[current_idx:end_idx] = labels\n",
    "        current_idx = end_idx"
   ]
  },
  {
   "cell_type": "code",
   "execution_count": null,
   "id": "243d1e57",
   "metadata": {},
   "outputs": [],
   "source": [
    "import numpy as np\n",
    "\n",
    "data = np.load(\"./train_images.npy\",mmap_mode='r')\n",
    "print(data.shape)"
   ]
  },
  {
   "cell_type": "code",
   "execution_count": null,
   "id": "76274336",
   "metadata": {},
   "outputs": [],
   "source": []
  }
 ],
 "metadata": {
  "kernelspec": {
   "display_name": "jax",
   "language": "python",
   "name": "python3"
  },
  "language_info": {
   "codemirror_mode": {
    "name": "ipython",
    "version": 3
   },
   "file_extension": ".py",
   "mimetype": "text/x-python",
   "name": "python",
   "nbconvert_exporter": "python",
   "pygments_lexer": "ipython3",
   "version": "3.12.11"
  }
 },
 "nbformat": 4,
 "nbformat_minor": 5
}
