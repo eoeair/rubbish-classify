{
 "cells": [
  {
   "cell_type": "markdown",
   "id": "9ae22694",
   "metadata": {},
   "source": [
    "# RubbishClassifier CNN 网络架构可视化\n",
    "\n",
    "本notebook展示了垃圾分类CNN模型的详细架构结构。"
   ]
  },
  {
   "cell_type": "markdown",
   "id": "6b85e707",
   "metadata": {},
   "source": [
    "## 1. 完整网络架构图\n",
    "\n",
    "下图展示了完整的CNN网络结构，包括所有层的连接关系和数据流："
   ]
  },
  {
   "cell_type": "code",
   "execution_count": null,
   "id": "f19286f0",
   "metadata": {},
   "outputs": [],
   "source": [
    "from IPython.display import Image, display\n",
    "import matplotlib.pyplot as plt\n",
    "\n",
    "# 显示完整网络架构图\n",
    "display(Image('./network_architecture.png', width=1000))"
   ]
  },
  {
   "cell_type": "markdown",
   "id": "9f7d375a",
   "metadata": {},
   "source": [
    "## 2. 详细卷积块结构\n",
    "\n",
    "下图详细展示了单个卷积块的内部结构："
   ]
  },
  {
   "cell_type": "code",
   "execution_count": null,
   "id": "85b16bbc",
   "metadata": {},
   "outputs": [],
   "source": [
    "# 显示详细卷积块图\n",
    "display(Image('./conv_block_detail.png', width=800))"
   ]
  },
  {
   "cell_type": "markdown",
   "id": "f8839d69",
   "metadata": {},
   "source": [
    "## 3. 网络结构详细说明\n",
    "\n",
    "### 输入层\n",
    "- **输入尺寸**: 224×224×3 (RGB图像)\n",
    "- **预处理**: letterbox缩放 + 归一化 [0,1]\n",
    "\n",
    "### 卷积特征提取部分\n",
    "\n",
    "#### 第1个卷积块\n",
    "- **Conv1**: 3→32通道，3×3卷积核，SAME填充\n",
    "- **BatchNorm1**: 32通道批量归一化\n",
    "- **ReLU**: 激活函数\n",
    "- **MaxPool**: 2×2池化，步长2\n",
    "- **输出**: 112×112×32\n",
    "\n",
    "#### 第2个卷积块\n",
    "- **Conv2**: 32→64通道，3×3卷积核\n",
    "- **BatchNorm2**: 64通道批量归一化  \n",
    "- **ReLU + MaxPool**: 激活+池化\n",
    "- **输出**: 56×56×64\n",
    "\n",
    "#### 第3个卷积块\n",
    "- **Conv3**: 64→128通道，3×3卷积核\n",
    "- **BatchNorm3**: 128通道批量归一化\n",
    "- **ReLU + MaxPool**: 激活+池化\n",
    "- **输出**: 28×28×128\n",
    "\n",
    "#### 第4个卷积块\n",
    "- **Conv4**: 128→256通道，3×3卷积核\n",
    "- **BatchNorm4**: 256通道批量归一化\n",
    "- **ReLU + MaxPool**: 激活+池化\n",
    "- **输出**: 14×14×256\n",
    "\n",
    "#### 第5个卷积块\n",
    "- **Conv5**: 256→512通道，3×3卷积核\n",
    "- **BatchNorm5**: 512通道批量归一化\n",
    "- **ReLU**: 激活函数（无池化）\n",
    "- **输出**: 14×14×512\n",
    "\n",
    "### 全局池化与分类部分\n",
    "\n",
    "#### 全局平均池化\n",
    "- **操作**: 对空间维度(H,W)求平均\n",
    "- **输出**: 512维特征向量\n",
    "\n",
    "#### 全连接分类器\n",
    "- **FC1**: 512→256 + ReLU\n",
    "- **FC2**: 256→128 + ReLU  \n",
    "- **FC3**: 128→12 (输出logits)\n",
    "\n",
    "### 最终输出\n",
    "- **形状**: (batch_size, 12)\n",
    "- **含义**: 12个垃圾分类类别的logits分数"
   ]
  },
  {
   "cell_type": "markdown",
   "id": "f644b567",
   "metadata": {},
   "source": [
    "## 4. 网络参数统计"
   ]
  },
  {
   "cell_type": "code",
   "execution_count": null,
   "id": "97f3435e",
   "metadata": {},
   "outputs": [],
   "source": [
    "# 计算网络参数数量\n",
    "def calculate_parameters():\n",
    "    params = {}\n",
    "    \n",
    "    # 卷积层参数 (weight + bias)\n",
    "    params['Conv1'] = (3*3*3*32) + 32\n",
    "    params['Conv2'] = (3*3*32*64) + 64  \n",
    "    params['Conv3'] = (3*3*64*128) + 128\n",
    "    params['Conv4'] = (3*3*128*256) + 256\n",
    "    params['Conv5'] = (3*3*256*512) + 512\n",
    "    \n",
    "    # 批量归一化参数 (scale + shift)\n",
    "    params['BN1'] = 32 * 2\n",
    "    params['BN2'] = 64 * 2  \n",
    "    params['BN3'] = 128 * 2\n",
    "    params['BN4'] = 256 * 2\n",
    "    params['BN5'] = 512 * 2\n",
    "    \n",
    "    # 全连接层参数\n",
    "    params['FC1'] = (512*256) + 256\n",
    "    params['FC2'] = (256*128) + 128  \n",
    "    params['FC3'] = (128*12) + 12\n",
    "    \n",
    "    return params\n",
    "\n",
    "params = calculate_parameters()\n",
    "total_params = sum(params.values())\n",
    "\n",
    "print(\"网络参数统计:\")\n",
    "print(\"=\" * 40)\n",
    "for layer, count in params.items():\n",
    "    print(f\"{layer:<10}: {count:>10,} 参数\")\n",
    "\n",
    "print(\"=\" * 40)\n",
    "print(f\"{'总计':<10}: {total_params:>10,} 参数\")\n",
    "print(f\"约 {total_params/1e6:.2f}M 参数\")"
   ]
  },
  {
   "cell_type": "markdown",
   "id": "161e1ef9",
   "metadata": {},
   "source": [
    "## 5. 特征图尺寸变化"
   ]
  },
  {
   "cell_type": "code",
   "execution_count": null,
   "id": "5aa55329",
   "metadata": {},
   "outputs": [],
   "source": [
    "# 展示特征图尺寸变化\n",
    "layers = [\n",
    "    (\"Input\", (224, 224, 3)),\n",
    "    (\"Conv1+Pool\", (112, 112, 32)),\n",
    "    (\"Conv2+Pool\", (56, 56, 64)),\n",
    "    (\"Conv3+Pool\", (28, 28, 128)),\n",
    "    (\"Conv4+Pool\", (14, 14, 256)),\n",
    "    (\"Conv5\", (14, 14, 512)),\n",
    "    (\"Global AvgPool\", (512,)),\n",
    "    (\"FC1\", (256,)),\n",
    "    (\"FC2\", (128,)),\n",
    "    (\"Output\", (12,))\n",
    "]\n",
    "\n",
    "print(\"特征图尺寸变化:\")\n",
    "print(\"=\" * 50)\n",
    "for i, (name, shape) in enumerate(layers):\n",
    "    if len(shape) == 3:\n",
    "        h, w, c = shape\n",
    "        pixels = h * w * c\n",
    "        print(f\"{i+1:2d}. {name:<15}: {h:3d}×{w:3d}×{c:3d} = {pixels:>8,} 元素\")\n",
    "    else:\n",
    "        c = shape[0]\n",
    "        print(f\"{i+1:2d}. {name:<15}: {c:>11} 元素\")\n",
    "    \n",
    "    if i < len(layers) - 1:\n",
    "        print(\"    ↓\")"
   ]
  },
  {
   "cell_type": "markdown",
   "id": "57481a67",
   "metadata": {},
   "source": [
    "## 6. 12类垃圾分类类别"
   ]
  },
  {
   "cell_type": "code",
   "execution_count": null,
   "id": "ebef80ae",
   "metadata": {},
   "outputs": [],
   "source": [
    "# 显示分类类别\n",
    "classes = [\n",
    "    (0, \"🔋 battery\", \"电池\"),\n",
    "    (1, \"🥬 biological\", \"生物垃圾\"), \n",
    "    (2, \"🍺 brown-glass\", \"棕色玻璃\"),\n",
    "    (3, \"📦 cardboard\", \"纸板\"),\n",
    "    (4, \"👕 clothes\", \"衣物\"),\n",
    "    (5, \"🍃 green-glass\", \"绿色玻璃\"),\n",
    "    (6, \"🔧 metal\", \"金属\"),\n",
    "    (7, \"📄 paper\", \"纸张\"),\n",
    "    (8, \"♻️ plastic\", \"塑料\"),\n",
    "    (9, \"👟 shoes\", \"鞋子\"),\n",
    "    (10, \"🗑️ trash\", \"一般垃圾\"),\n",
    "    (11, \"🥛 white-glass\", \"白色玻璃\")\n",
    "]\n",
    "\n",
    "print(\"垃圾分类类别 (12类):\")\n",
    "print(\"=\" * 60)\n",
    "for idx, emoji_name, chinese in classes:\n",
    "    print(f\"类别 {idx:2d}: {emoji_name:<20} ({chinese})\")\n",
    "\n",
    "print(f\"\\n网络输出: 12维向量，每个元素对应一个类别的logits分数\")\n",
    "print(f\"预测类别: argmax(logits) → 类别ID\")"
   ]
  },
  {
   "cell_type": "markdown",
   "id": "34bbf78f",
   "metadata": {},
   "source": [
    "## 7. 网络设计特点\n",
    "\n",
    "### 🎯 设计亮点\n",
    "\n",
    "1. **渐进式特征提取**\n",
    "   - 从低级特征(边缘、纹理)到高级特征(物体形状)\n",
    "   - 通道数逐渐增加: 3→32→64→128→256→512\n",
    "\n",
    "2. **批量归一化**\n",
    "   - 每个卷积层后都有BatchNorm\n",
    "   - 加速训练收敛，提高稳定性\n",
    "\n",
    "3. **全局平均池化**\n",
    "   - 替代传统的展平操作\n",
    "   - 减少参数数量，防止过拟合\n",
    "\n",
    "4. **适中的网络深度**\n",
    "   - 5个卷积层平衡了特征提取能力和计算效率\n",
    "   - 约1.7M参数，适合中等规模数据集\n",
    "\n",
    "### 🚀 优化空间\n",
    "\n",
    "1. **数据增强**: 旋转、翻转、色彩变换\n",
    "2. **Dropout**: 在全连接层添加dropout防止过拟合\n",
    "3. **学习率调度**: 使用cosine annealing等策略\n",
    "4. **残差连接**: 考虑添加skip connections"
   ]
  }
 ],
 "metadata": {
  "language_info": {
   "name": "python"
  }
 },
 "nbformat": 4,
 "nbformat_minor": 5
}
