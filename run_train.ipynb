{
 "cells": [
  {
   "cell_type": "code",
   "execution_count": 1,
   "id": "caa8cdab",
   "metadata": {},
   "outputs": [
    {
     "name": "stdout",
     "output_type": "stream",
     "text": [
      "已加载类别权重: {0: 1.3681657848324515, 1: 1.3126057529610828, 2: 2.1300109829763865, 3: 1.4510849233071454, 4: 0.24280125195618155, 5: 2.055511393746688, 6: 1.6812960554833116, 7: 1.2313492063492064, 8: 1.4947013487475915, 9: 0.6539790929017029, 10: 1.8549736967957915, 11: 1.668279569892473}\n",
      "Step:500_Train Acc@1: 0.7188 loss: 0.9581\n",
      "Step:500_Val Acc@1: 0.6942 loss: 1.0454\n",
      "新的最佳验证准确率: 0.6942, 模型已保存\n",
      "Step:1000_Train Acc@1: 0.7812 loss: 0.8614\n",
      "Step:1000_Val Acc@1: 0.7186 loss: 0.8840\n",
      "新的最佳验证准确率: 0.7186, 模型已保存\n",
      "Step:1500_Train Acc@1: 0.8281 loss: 0.6514\n",
      "Step:1500_Val Acc@1: 0.7216 loss: 0.8500\n",
      "新的最佳验证准确率: 0.7216, 模型已保存\n",
      "Step:2000_Train Acc@1: 0.7500 loss: 0.7193\n",
      "Step:2000_Val Acc@1: 0.7710 loss: 0.7959\n",
      "新的最佳验证准确率: 0.7710, 模型已保存\n",
      "Step:2500_Train Acc@1: 0.7812 loss: 0.5782\n",
      "Step:2500_Val Acc@1: 0.7698 loss: 0.7316\n",
      "Step:3000_Train Acc@1: 0.7969 loss: 0.5596\n",
      "Step:3000_Val Acc@1: 0.7676 loss: 0.7234\n",
      "Step:3500_Train Acc@1: 0.8281 loss: 0.5622\n",
      "Step:3500_Val Acc@1: 0.7826 loss: 0.7123\n",
      "新的最佳验证准确率: 0.7826, 模型已保存\n",
      "Step:4000_Train Acc@1: 0.8438 loss: 0.3437\n",
      "Step:4000_Val Acc@1: 0.8050 loss: 0.6693\n",
      "新的最佳验证准确率: 0.8050, 模型已保存\n",
      "Step:4500_Train Acc@1: 0.8750 loss: 0.3729\n",
      "Step:4500_Val Acc@1: 0.8174 loss: 0.6299\n",
      "新的最佳验证准确率: 0.8174, 模型已保存\n",
      "Step:5000_Train Acc@1: 0.8750 loss: 0.4103\n",
      "Step:5000_Val Acc@1: 0.8114 loss: 0.6747\n",
      "Step:5500_Train Acc@1: 0.8125 loss: 0.5325\n",
      "Step:5500_Val Acc@1: 0.8170 loss: 0.6134\n",
      "Step:6000_Train Acc@1: 0.8750 loss: 0.2709\n",
      "Step:6000_Val Acc@1: 0.8196 loss: 0.6320\n",
      "新的最佳验证准确率: 0.8196, 模型已保存\n",
      "Step:6500_Train Acc@1: 0.9062 loss: 0.3201\n",
      "Step:6500_Val Acc@1: 0.8204 loss: 0.6389\n",
      "新的最佳验证准确率: 0.8204, 模型已保存\n",
      "Step:7000_Train Acc@1: 0.8594 loss: 0.2012\n",
      "Step:7000_Val Acc@1: 0.8192 loss: 0.6543\n",
      "Step:7500_Train Acc@1: 0.9062 loss: 0.3054\n",
      "Step:7500_Val Acc@1: 0.8226 loss: 0.6808\n",
      "新的最佳验证准确率: 0.8226, 模型已保存\n",
      "Step:8000_Train Acc@1: 0.9531 loss: 0.1253\n",
      "Step:8000_Val Acc@1: 0.8363 loss: 0.6359\n",
      "新的最佳验证准确率: 0.8363, 模型已保存\n",
      "Step:8500_Train Acc@1: 0.9062 loss: 0.3248\n",
      "Step:8500_Val Acc@1: 0.7947 loss: 0.8240\n",
      "Step:9000_Train Acc@1: 1.0000 loss: 0.0801\n",
      "Step:9000_Val Acc@1: 0.8329 loss: 0.6454\n",
      "Step:9500_Train Acc@1: 0.9531 loss: 0.1732\n",
      "Step:9500_Val Acc@1: 0.8273 loss: 0.6473\n",
      "Step:10000_Train Acc@1: 0.9062 loss: 0.1441\n",
      "Step:10000_Val Acc@1: 0.8406 loss: 0.6374\n",
      "新的最佳验证准确率: 0.8406, 模型已保存\n",
      "训练完成，最佳验证准确率: 0.8406\n"
     ]
    }
   ],
   "source": [
    "!python main.py"
   ]
  }
 ],
 "metadata": {
  "kernelspec": {
   "display_name": "jax",
   "language": "python",
   "name": "python3"
  },
  "language_info": {
   "codemirror_mode": {
    "name": "ipython",
    "version": 3
   },
   "file_extension": ".py",
   "mimetype": "text/x-python",
   "name": "python",
   "nbconvert_exporter": "python",
   "pygments_lexer": "ipython3",
   "version": "3.12.11"
  }
 },
 "nbformat": 4,
 "nbformat_minor": 5
}
