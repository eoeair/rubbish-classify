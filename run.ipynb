{
 "cells": [
  {
   "cell_type": "code",
   "execution_count": 4,
   "id": "caa8cdab",
   "metadata": {},
   "outputs": [
    {
     "name": "stdout",
     "output_type": "stream",
     "text": [
      "Step:500_Train Acc@1: 0.40625 loss: 2.5454354286193848 \n",
      "Step:500_Val Acc@1: 0.11212976276874542 loss: 3.6132614612579346 \n",
      "Step:1000_Train Acc@1: 0.3125 loss: 2.4731574058532715 \n",
      "Step:1000_Val Acc@1: 0.12200282514095306 loss: 3.7008492946624756 \n",
      "Step:1500_Train Acc@1: 0.359375 loss: 2.2522177696228027 \n",
      "Step:1500_Val Acc@1: 0.14668548107147217 loss: 3.7913546562194824 \n",
      "Step:2000_Train Acc@1: 0.421875 loss: 2.207775592803955 \n",
      "Step:2000_Val Acc@1: 0.13046544790267944 loss: 3.7836825847625732 \n",
      "Step:2500_Train Acc@1: 0.453125 loss: 1.8188602924346924 \n",
      "Step:2500_Val Acc@1: 0.15232722461223602 loss: 3.78743314743042 \n",
      "Step:3000_Train Acc@1: 0.53125 loss: 1.724489688873291 \n",
      "Step:3000_Val Acc@1: 0.15585331618785858 loss: 3.8919551372528076 \n",
      "Step:3500_Train Acc@1: 0.609375 loss: 1.5056452751159668 \n",
      "Step:3500_Val Acc@1: 0.14880113303661346 loss: 3.9144287109375 \n",
      "Step:4000_Train Acc@1: 0.609375 loss: 1.3924832344055176 \n",
      "Step:4000_Val Acc@1: 0.15444287657737732 loss: 3.912050485610962 \n",
      "Step:4500_Train Acc@1: 0.609375 loss: 1.5270471572875977 \n",
      "Step:4500_Val Acc@1: 0.1650211662054062 loss: 3.962574005126953 \n",
      "Step:5000_Train Acc@1: 0.75 loss: 1.0115344524383545 \n",
      "Step:5000_Val Acc@1: 0.16643160581588745 loss: 4.0374603271484375 \n",
      "Step:5500_Train Acc@1: 0.59375 loss: 1.3136166334152222 \n",
      "Step:5500_Val Acc@1: 0.16572637856006622 loss: 4.081676483154297 \n",
      "Step:6000_Train Acc@1: 0.765625 loss: 0.8858002424240112 \n",
      "Step:6000_Val Acc@1: 0.1763046532869339 loss: 4.12374210357666 \n",
      "Step:6500_Train Acc@1: 0.625 loss: 1.143195390701294 \n",
      "Step:6500_Val Acc@1: 0.17700988054275513 loss: 4.3165974617004395 \n",
      "Step:7000_Train Acc@1: 0.796875 loss: 0.8664327263832092 \n",
      "Step:7000_Val Acc@1: 0.1720733493566513 loss: 4.42181396484375 \n",
      "Step:7500_Train Acc@1: 0.640625 loss: 1.1459453105926514 \n",
      "Step:7500_Val Acc@1: 0.17700988054275513 loss: 4.468759536743164 \n",
      "Step:8000_Train Acc@1: 0.8125 loss: 0.6380436420440674 \n",
      "Step:8000_Val Acc@1: 0.17559944093227386 loss: 4.608356475830078 \n",
      "Step:8500_Train Acc@1: 0.859375 loss: 0.6192409992218018 \n",
      "Step:8500_Val Acc@1: 0.1741890013217926 loss: 4.843584060668945 \n",
      "Step:9000_Train Acc@1: 0.765625 loss: 0.6872355341911316 \n",
      "Step:9000_Val Acc@1: 0.1763046532869339 loss: 4.930839538574219 \n",
      "Step:9500_Train Acc@1: 0.890625 loss: 0.46837669610977173 \n",
      "Step:9500_Val Acc@1: 0.17489422857761383 loss: 5.276828765869141 \n",
      "Step:10000_Train Acc@1: 0.859375 loss: 0.5846978425979614 \n",
      "Step:10000_Val Acc@1: 0.17489422857761383 loss: 5.217484474182129 \n"
     ]
    }
   ],
   "source": [
    "!python main.py"
   ]
  }
 ],
 "metadata": {
  "kernelspec": {
   "display_name": "jax",
   "language": "python",
   "name": "python3"
  },
  "language_info": {
   "codemirror_mode": {
    "name": "ipython",
    "version": 3
   },
   "file_extension": ".py",
   "mimetype": "text/x-python",
   "name": "python",
   "nbconvert_exporter": "python",
   "pygments_lexer": "ipython3",
   "version": "3.12.11"
  }
 },
 "nbformat": 4,
 "nbformat_minor": 5
}
