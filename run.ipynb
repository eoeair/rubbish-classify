{
 "cells": [
  {
   "cell_type": "code",
   "execution_count": 2,
   "id": "caa8cdab",
   "metadata": {},
   "outputs": [
    {
     "name": "stdout",
     "output_type": "stream",
     "text": [
      "2025-06-25 21:39:05.679526: W external/xla/xla/service/gpu/autotuning/dot_search_space.cc:200] All configs were filtered out because none of them sufficiently match the hints. Maybe the hints set does not contain a good representative set of valid configs?Working around this by using the full hints set instead.\n",
      "Step:500_Train Acc@1: 0.038173653185367584 loss: 3.696732521057129 \n",
      "2025-06-25 21:39:24.056524: W external/xla/xla/service/gpu/autotuning/dot_search_space.cc:200] All configs were filtered out because none of them sufficiently match the hints. Maybe the hints set does not contain a good representative set of valid configs?Working around this by using the full hints set instead.\n",
      "Step:500_Val Acc@1: 0.02679830603301525 loss: 3.7092459201812744 \n",
      "2025-06-25 21:39:58.653070: W external/xla/xla/service/gpu/autotuning/dot_search_space.cc:200] All configs were filtered out because none of them sufficiently match the hints. Maybe the hints set does not contain a good representative set of valid configs?Working around this by using the full hints set instead.\n",
      "Step:1000_Train Acc@1: 0.05442942678928375 loss: 3.6402370929718018 \n",
      "Step:1000_Val Acc@1: nan loss: nan \n",
      "Step:1500_Train Acc@1: 0.07312500476837158 loss: 3.607675313949585 \n",
      "Step:1500_Val Acc@1: nan loss: nan \n",
      "Step:2000_Train Acc@1: 0.10047547519207001 loss: 3.565467596054077 \n",
      "Step:2000_Val Acc@1: nan loss: nan \n",
      "Step:2500_Train Acc@1: 0.09959959983825684 loss: 3.545135498046875 \n",
      "Step:2500_Val Acc@1: nan loss: nan \n",
      "Step:3000_Train Acc@1: 0.10600000619888306 loss: 3.5125086307525635 \n",
      "Step:3000_Val Acc@1: nan loss: nan \n",
      "Step:3500_Train Acc@1: 0.11261261254549026 loss: 3.495039939880371 \n",
      "Step:3500_Val Acc@1: nan loss: nan \n",
      "Step:4000_Train Acc@1: 0.10912500321865082 loss: 3.4816091060638428 \n",
      "Step:4000_Val Acc@1: nan loss: nan \n",
      "Step:4500_Train Acc@1: 0.11448948830366135 loss: 3.4641873836517334 \n",
      "Step:4500_Val Acc@1: nan loss: nan \n",
      "Step:5000_Train Acc@1: 0.11636636406183243 loss: 3.4553065299987793 \n",
      "Step:5000_Val Acc@1: nan loss: nan \n",
      "Traceback (most recent call last):\n",
      "  File \u001b[35m\"/home/pdch/workspace/rubbish-classify/main.py\"\u001b[0m, line \u001b[35m76\u001b[0m, in \u001b[35m<module>\u001b[0m\n",
      "    \u001b[31mtrain_step\u001b[0m\u001b[1;31m(model, optimizer, metrics, batch)\u001b[0m\n",
      "    \u001b[31m~~~~~~~~~~\u001b[0m\u001b[1;31m^^^^^^^^^^^^^^^^^^^^^^^^^^^^^^^^^^\u001b[0m\n",
      "  File \u001b[35m\"/home/pdch/miniconda3/envs/jax/lib/python3.13/site-packages/flax/nnx/transforms/compilation.py\"\u001b[0m, line \u001b[35m350\u001b[0m, in \u001b[35mjit_wrapper\u001b[0m\n",
      "    pure_args_out, pure_kwargs_out, pure_out = \u001b[31mjitted_fn\u001b[0m\u001b[1;31m(\u001b[0m\n",
      "                                               \u001b[31m~~~~~~~~~\u001b[0m\u001b[1;31m^\u001b[0m\n",
      "      \u001b[1;31m*pure_args, **pure_kwargs\u001b[0m\n",
      "      \u001b[1;31m^^^^^^^^^^^^^^^^^^^^^^^^^\u001b[0m\n",
      "    \u001b[1;31m)\u001b[0m\n",
      "    \u001b[1;31m^\u001b[0m\n",
      "  File \u001b[35m\"/home/pdch/miniconda3/envs/jax/lib/python3.13/site-packages/jax/_src/tree_util.py\"\u001b[0m, line \u001b[35m1097\u001b[0m, in \u001b[35m<lambda>\u001b[0m\n",
      "    unflatten = lambda obj, empty_iter_children: obj\n",
      "    \n",
      "\u001b[1;35mKeyboardInterrupt\u001b[0m\n",
      "^C\n",
      "Traceback (most recent call last):\n",
      "  File \"/home/pdch/miniconda3/envs/jax/lib/python3.13/threading.py\", line 1542, in _shutdown\n",
      "    _thread_shutdown()\n",
      "KeyboardInterrupt: \n"
     ]
    }
   ],
   "source": [
    "!python main.py"
   ]
  }
 ],
 "metadata": {
  "kernelspec": {
   "display_name": "jax",
   "language": "python",
   "name": "python3"
  },
  "language_info": {
   "codemirror_mode": {
    "name": "ipython",
    "version": 3
   },
   "file_extension": ".py",
   "mimetype": "text/x-python",
   "name": "python",
   "nbconvert_exporter": "python",
   "pygments_lexer": "ipython3",
   "version": "3.13.5"
  }
 },
 "nbformat": 4,
 "nbformat_minor": 5
}
